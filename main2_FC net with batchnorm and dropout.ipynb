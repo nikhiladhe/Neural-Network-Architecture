{
 "cells": [
  {
   "cell_type": "markdown",
   "metadata": {},
   "source": [
    "1. Forward and backward pass for batchnorm and dropout have been implemented in layers.py fiile"
   ]
  },
  {
   "cell_type": "code",
   "execution_count": null,
   "metadata": {},
   "outputs": [],
   "source": [
    "import numpy as np\n",
    "import matplotlib.pyplot as plt\n",
    "from fc_net import *\n",
    "from data_utils import get_CIFAR10_data\n",
    "from solver import Solver\n",
    "\n",
    "%matplotlib inline\n",
    "plt.rcParams['figure.figsize'] = (10.0, 8.0) # set default size of plots\n",
    "plt.rcParams['image.interpolation'] = 'nearest'\n",
    "plt.rcParams['image.cmap'] = 'gray'\n",
    "\n",
    "# for auto-reloading external modules\n",
    "# see http://stackoverflow.com/questions/1907993/autoreload-of-modules-in-ipython\n",
    "%load_ext autoreload\n",
    "%autoreload 2\n"
   ]
  },
  {
   "cell_type": "code",
   "execution_count": 3,
   "metadata": {},
   "outputs": [
    {
     "name": "stdout",
     "output_type": "stream",
     "text": [
      "X_val:  (1000L, 3L, 32L, 32L)\n",
      "X_train:  (49000L, 3L, 32L, 32L)\n",
      "X_test:  (1000L, 3L, 32L, 32L)\n",
      "y_val:  (1000L,)\n",
      "y_train:  (49000L,)\n",
      "y_test:  (1000L,)\n"
     ]
    }
   ],
   "source": [
    "# Load the (preprocessed) CIFAR10 data.\n",
    "\n",
    "data = get_CIFAR10_data()\n",
    "for k, v in data.iteritems():\n",
    "  print '%s: ' % k, v.shape"
   ]
  },
  {
   "cell_type": "code",
   "execution_count": 13,
   "metadata": {
    "collapsed": true
   },
   "outputs": [],
   "source": [
    "X_test = data['X_test']\n",
    "X_val = data['X_val']\n",
    "y_test = data['y_test']\n",
    "y_val = data['y_val']"
   ]
  },
  {
   "cell_type": "markdown",
   "metadata": {},
   "source": [
    "# Fully connected net with batchnorm/dropout and sgd update rule"
   ]
  },
  {
   "cell_type": "markdown",
   "metadata": {},
   "source": [
    "### ReLu activation function"
   ]
  },
  {
   "cell_type": "code",
   "execution_count": null,
   "metadata": {},
   "outputs": [],
   "source": [
    "learning_rate = 5e-2\n",
    "weight_scale = 4e-2\n",
    "dropout = 0.15\n",
    "model = FullyConnectedNet([100, 100, 100, 100,100],act_func='relu',weight_scale=weight_scale, dtype=np.float64,dropout=dropout,use_batchnorm=True)\n",
    "solver = Solver(model, data,\n",
    "                print_every=300, num_epochs=20, batch_size=250,\n",
    "                update_rule='adam',\n",
    "                optim_config={\n",
    "                  'learning_rate': learning_rate,\n",
    "                }\n",
    "         )\n",
    "solver.train()\n",
    "\n",
    "model_fcrelu = model\n",
    "solver_fcrelu = solver\n",
    "\n",
    "y_test_pred = np.argmax(model.loss(X_test), axis=1)\n",
    "y_val_pred = np.argmax(model.loss(X_val), axis=1)\n",
    "print 'Validation set accuracy: ', (y_val_pred == y_val).mean()\n",
    "print 'Test set accuracy: ', (y_test_pred == y_test).mean()"
   ]
  },
  {
   "cell_type": "markdown",
   "metadata": {},
   "source": [
    "### Softplus activation function"
   ]
  },
  {
   "cell_type": "code",
   "execution_count": null,
   "metadata": {},
   "outputs": [],
   "source": [
    "# best fc softplus\n",
    "learning_rate = 5e-2\n",
    "weight_scale = 4e-2\n",
    "dropout = 0.15\n",
    "model = FullyConnectedNet([100, 100, 100, 100, 100],act_func='softplus',weight_scale=weight_scale, dtype=np.float64,dropout=dropout,use_batchnorm=True)\n",
    "solver = Solver(model, data,\n",
    "                print_every=300, num_epochs=20, batch_size=250,\n",
    "                update_rule='adam',\n",
    "                optim_config={\n",
    "                  'learning_rate': learning_rate,\n",
    "                }\n",
    "         )\n",
    "solver.train()\n",
    "\n",
    "model_fcsoftplus = model\n",
    "solver_fcsoftplus = solver\n",
    "\n",
    "y_test_pred = np.argmax(model.loss(X_test), axis=1)\n",
    "y_val_pred = np.argmax(model.loss(X_val), axis=1)\n",
    "print 'Validation set accuracy: ', (y_val_pred == y_val).mean()\n",
    "print 'Test set accuracy: ', (y_test_pred == y_test).mean()"
   ]
  },
  {
   "cell_type": "markdown",
   "metadata": {},
   "source": [
    "### Leaky ReLu activation function"
   ]
  },
  {
   "cell_type": "code",
   "execution_count": null,
   "metadata": {},
   "outputs": [],
   "source": [
    "learning_rate = 7e-2\n",
    "weight_scale = 4e-2\n",
    "dropout = 0.15\n",
    "model = FullyConnectedNet([100, 100, 100, 100, 100],act_func='leakyrelu',weight_scale=weight_scale, dtype=np.float64,dropout=dropout,use_batchnorm=True)\n",
    "solver = Solver(model, data,\n",
    "                print_every=300, num_epochs=20, batch_size=250,\n",
    "                update_rule='adam',\n",
    "                optim_config={\n",
    "                  'learning_rate': learning_rate,\n",
    "                }\n",
    "         )\n",
    "solver.train()\n",
    "\n",
    "model_fcleakyrelu = model\n",
    "solver_fcleakyrelu = solver\n",
    "\n",
    "y_test_pred = np.argmax(model.loss(X_test), axis=1)\n",
    "y_val_pred = np.argmax(model.loss(X_val), axis=1)\n",
    "print 'Validation set accuracy: ', (y_val_pred == y_val).mean()\n",
    "print 'Test set accuracy: ', (y_test_pred == y_test).mean()"
   ]
  },
  {
   "cell_type": "markdown",
   "metadata": {},
   "source": [
    "### ELu activation function"
   ]
  },
  {
   "cell_type": "code",
   "execution_count": null,
   "metadata": {},
   "outputs": [],
   "source": [
    "learning_rate = 5e-2\n",
    "weight_scale = 4e-2\n",
    "dropout = 0.15\n",
    "model = FullyConnectedNet([100, 100, 100, 100, 100],act_func='elu',weight_scale=weight_scale, dtype=np.float64,dropout=dropout,use_batchnorm=True)\n",
    "solver = Solver(model, data,\n",
    "                print_every=300, num_epochs=20, batch_size=250,\n",
    "                update_rule='adam',\n",
    "                optim_config={\n",
    "                  'learning_rate': learning_rate,\n",
    "                }\n",
    "         )\n",
    "solver.train()\n",
    "\n",
    "model_fcelu = model\n",
    "solver_fcelu = solver\n",
    "\n",
    "y_test_pred = np.argmax(model.loss(X_test), axis=1)\n",
    "y_val_pred = np.argmax(model.loss(X_val), axis=1)\n",
    "print 'Validation set accuracy: ', (y_val_pred == y_val).mean()\n",
    "print 'Test set accuracy: ', (y_test_pred == y_test).mean()"
   ]
  },
  {
   "cell_type": "markdown",
   "metadata": {},
   "source": [
    "### Plotting Training and validation accuracy graphs for all activation functions"
   ]
  },
  {
   "cell_type": "code",
   "execution_count": null,
   "metadata": {},
   "outputs": [],
   "source": [
    "import matplotlib\n",
    "\n",
    "\n",
    "\n",
    "plt.subplot(1,2,1)\n",
    "\n",
    "plt.title('Training accuracy')\n",
    "plt.xlabel('Epoch')\n",
    "plt.ylabel('Accuracy')\n",
    "\n",
    "plt.plot(solver_fcelu.train_acc_history, label='ELU')\n",
    "plt.plot(solver_fcsoftplus.train_acc_history,  label='Softplus')\n",
    "plt.plot(solver_fcleakyrelu25.train_acc_history,  label='Leaky ReLu,slope = 0.25')\n",
    "plt.plot(solver_fcleakyrelu.train_acc_history,  label='Leaky ReLu')\n",
    "plt.plot(solver_fcrelu.train_acc_history,  label='ReLu')\n",
    "\n",
    "plt.legend(loc='lower right',prop={'size': 12})\n",
    "matplotlib.rcParams.update({'font.size': 15})\n",
    "\n",
    "\n",
    "plt.subplot(1,2,2)\n",
    "plt.title('Validation accuracy')\n",
    "plt.xlabel('Epoch')\n",
    "plt.ylabel('Accuracy')\n",
    "\n",
    "plt.plot(solver_fcelu.val_acc_history, label='ELU')\n",
    "plt.plot(solver_fcsoftplus.val_acc_history,  label='Softplus')\n",
    "plt.plot(solver_fcleakyrelu25.val_acc_history,  label='Leaky ReLu,slope = 0.25')\n",
    "plt.plot(solver_fcleakyrelu.val_acc_history,  label='Leaky ReLu')\n",
    "plt.plot(solver_fcrelu.val_acc_history,  label='ReLu')\n",
    "\n",
    "plt.legend(loc='lower right',prop={'size': 12})\n",
    "\n",
    "matplotlib.rcParams.update({'font.size': 15})\n",
    "\n",
    "\n",
    "plt.gcf().set_size_inches(15, 5)\n",
    "plt.show()"
   ]
  }
 ],
 "metadata": {
  "kernelspec": {
   "display_name": "Python 3",
   "language": "python",
   "name": "python3"
  },
  "language_info": {
   "codemirror_mode": {
    "name": "ipython",
    "version": 3
   },
   "file_extension": ".py",
   "mimetype": "text/x-python",
   "name": "python",
   "nbconvert_exporter": "python",
   "pygments_lexer": "ipython3",
   "version": "3.6.5"
  }
 },
 "nbformat": 4,
 "nbformat_minor": 1
}
