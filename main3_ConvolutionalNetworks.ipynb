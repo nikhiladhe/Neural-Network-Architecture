{
 "cells": [
  {
   "cell_type": "markdown",
   "metadata": {},
   "source": [
    "1. Max pooling forward and backward passes have been included in the layers.py file.\n",
    "2. Several convenience layers like convolution-activation function-pool forward pass have been defined in the layer_utils.py file.\n",
    "3. Spatial batchnorm layers have been implemented in the layers.py file.\n"
   ]
  },
  {
   "cell_type": "code",
   "execution_count": null,
   "metadata": {},
   "outputs": [],
   "source": [
    "import numpy as np\n",
    "import matplotlib.pyplot as plt\n",
    "from cnn import *\n",
    "from data_utils import get_CIFAR10_data\n",
    "from layer_utils import *\n",
    "from layers import *\n",
    "from solver import Solver\n",
    "\n",
    "%matplotlib inline\n",
    "plt.rcParams['figure.figsize'] = (10.0, 8.0) # set default size of plots\n",
    "plt.rcParams['image.interpolation'] = 'nearest'\n",
    "plt.rcParams['image.cmap'] = 'gray'\n",
    "\n",
    "# for auto-reloading external modules\n",
    "# see http://stackoverflow.com/questions/1907993/autoreload-of-modules-in-ipython\n",
    "%load_ext autoreload\n",
    "%autoreload 2"
   ]
  },
  {
   "cell_type": "code",
   "execution_count": null,
   "metadata": {},
   "outputs": [],
   "source": [
    "# Load the (preprocessed) CIFAR10 data.\n",
    "DIR_CS231n = 'C:\\Users\\Hope\\Neural Nets 682\\Project\\assignment2'\n",
    "data = get_CIFAR10_data()\n",
    "for k, v in data.iteritems():\n",
    "  print '%s: ' % k, v.shape"
   ]
  },
  {
   "cell_type": "markdown",
   "metadata": {},
   "source": [
    "## Convolution architecture: [conv-relu-pool2x2]x3 - [affine - act func]x2 - affine - softmax"
   ]
  },
  {
   "cell_type": "markdown",
   "metadata": {},
   "source": [
    "### ReLu activation function"
   ]
  },
  {
   "cell_type": "code",
   "execution_count": null,
   "metadata": {},
   "outputs": [],
   "source": [
    "model_10amx = FirstConvNet(act_func='relu',weight_scale=0.01,num_filters=[16, 16, 16],hidden_dims=[100,100],reg=0.01,filter_size = 3,use_batchnorm=True)\n",
    "\n",
    "solver_10amx = Solver(model_10amx, data,\n",
    "                num_epochs=5, batch_size=128,\n",
    "                update_rule='adam',\n",
    "                optim_config={\n",
    "                  'learning_rate': 1e-2,\n",
    "                },\n",
    "                verbose=True, print_every=100)\n",
    "\n",
    "t = time.time()\n",
    "solver_10amx.train()\n",
    "\n",
    "\n",
    "y_test_pred = np.argmax(model_10amx.loss(X_test), axis=1)\n",
    "y_val_pred = np.argmax(model_10amx.loss(X_val), axis=1)\n",
    "print 'Validation set accuracy: ', (y_val_pred == y_val).mean()\n",
    "print 'Test set accuracy: ', (y_test_pred == y_test).mean()"
   ]
  },
  {
   "cell_type": "markdown",
   "metadata": {},
   "source": [
    "### Leaky ReLu activation function"
   ]
  },
  {
   "cell_type": "code",
   "execution_count": null,
   "metadata": {},
   "outputs": [],
   "source": [
    "model_10d = FirstConvNet(act_func='leakyrelu',weight_scale=0.04,num_filters=[16, 16, 16],hidden_dims=[300,200],reg=0.001,filter_size = 3,use_batchnorm=True)\n",
    "\n",
    "solver_10d = Solver(model_10d, data,\n",
    "                num_epochs=5, batch_size=128,\n",
    "                update_rule='adam',\n",
    "                optim_config={\n",
    "                  'learning_rate': 5e-3,\n",
    "                },\n",
    "                verbose=True, print_every=100)\n",
    "\n",
    "solver_10d.train()\n",
    "\n",
    "y_test_pred = np.argmax(model_10d.loss(X_test), axis=1)\n",
    "y_val_pred = np.argmax(model_10d.loss(X_val), axis=1)\n",
    "print 'Validation set accuracy: ', (y_val_pred == y_val).mean()\n",
    "print 'Test set accuracy: ', (y_test_pred == y_test).mean()\n"
   ]
  },
  {
   "cell_type": "markdown",
   "metadata": {},
   "source": [
    "### Softplus activation function"
   ]
  },
  {
   "cell_type": "code",
   "execution_count": null,
   "metadata": {},
   "outputs": [],
   "source": [
    "model_10g = FirstConvNet(act_func='softplus',weight_scale=0.04,num_filters=[16, 16, 16],hidden_dims=[300,200],reg=0.001,filter_size = 3,use_batchnorm=True)\n",
    "\n",
    "solver_10g = Solver(model_10g, data,\n",
    "                num_epochs=5, batch_size=128,\n",
    "                update_rule='adam',\n",
    "                optim_config={\n",
    "                  'learning_rate': 5e-3 #3e-2,\n",
    "                },\n",
    "                verbose=True, print_every=100)\n",
    "\n",
    "\n",
    "solver_10g.train()\n",
    "\n",
    "y_test_pred = np.argmax(model_10g.loss(X_test), axis=1)\n",
    "y_val_pred = np.argmax(model_10g.loss(X_val), axis=1)\n",
    "print 'Validation set accuracy: ', (y_val_pred == y_val).mean()\n",
    "print 'Test set accuracy: ', (y_test_pred == y_test).mean()\n"
   ]
  },
  {
   "cell_type": "markdown",
   "metadata": {},
   "source": [
    "### ELu activation function"
   ]
  },
  {
   "cell_type": "code",
   "execution_count": null,
   "metadata": {},
   "outputs": [],
   "source": [
    "model_10h = FirstConvNet(act_func='elu',weight_scale=0.04,num_filters=[16, 16, 16],hidden_dims=[300,200],reg=0.001,filter_size = 3,use_batchnorm=True)\n",
    "\n",
    "solver_10h = Solver(model_10g, data,\n",
    "                num_epochs=5, batch_size=128,\n",
    "                update_rule='adam',\n",
    "                optim_config={\n",
    "                  'learning_rate': 5e-3 #3e-2,\n",
    "                },\n",
    "                verbose=True, print_every=100)\n",
    "\n",
    "\n",
    "solver_10h.train()\n",
    "\n",
    "y_test_pred = np.argmax(model_10g.loss(X_test), axis=1)\n",
    "y_val_pred = np.argmax(model_10g.loss(X_val), axis=1)\n",
    "print 'Validation set accuracy: ', (y_val_pred == y_val).mean()\n",
    "print 'Test set accuracy: ', (y_test_pred == y_test).mean()"
   ]
  },
  {
   "cell_type": "code",
   "execution_count": null,
   "metadata": {},
   "outputs": [],
   "source": [
    "import matplotlib.pyplot as pl\n",
    "%matplotlib inline\n",
    "plt.rcParams['figure.figsize'] = (10.0, 8.0) # set default size of plots\n",
    "plt.rcParams['image.interpolation'] = 'nearest'\n",
    "plt.rcParams['image.cmap'] = 'gray'\n",
    "\n",
    "\n",
    "pl.subplot(1,2,1,facecolor='w')\n",
    "\n",
    "pl.title('Training accuracy')\n",
    "pl.xlabel('Epoch')\n",
    "pl.ylabel('Accuracy')\n",
    "\n",
    "pl.plot(solver_10h.train_acc_history, label='ELU')\n",
    "pl.plot(solver_10g.train_acc_history,  label='Softplus')\n",
    "pl.plot(solver_10f.train_acc_history,  label='Leaky ReLu,slope = 0.25')\n",
    "pl.plot(solver_10d.train_acc_history,  label='Leaky ReLu')\n",
    "pl.plot(solver_10amx.train_acc_history,  label='ReLu')\n",
    "\n",
    "\n",
    "\n",
    "pl.legend(loc='lower right',prop={'size': 12})\n",
    "matplotlib.rcParams.update({'font.size': 15})\n",
    "\n",
    "\n",
    "pl.subplot(1,2,2)\n",
    "pl.title('Validation accuracy')\n",
    "pl.xlabel('Epoch')\n",
    "pl.ylabel('Accuracy')\n",
    "\n",
    "pl.plot(conv_elu_val, label='ELU')\n",
    "pl.plot(solver_10g.val_acc_history,  label='Softplus')\n",
    "pl.plot(solver_10f.val_acc_history,  label='Leaky ReLu,slope = 0.25')\n",
    "pl.plot(solver_10d.val_acc_history,  label='Leaky ReLu')\n",
    "pl.plot(solver_10amx.val_acc_history,  label='ReLu')\n",
    "\n",
    "pl.legend(loc='lower right',prop={'size': 12})\n",
    "\n",
    "matplotlib.rcParams.update({'font.size': 15})\n",
    "\n",
    "\n",
    "pl.gcf().set_size_inches(15, 5)\n",
    "pl.show()"
   ]
  }
 ],
 "metadata": {
  "kernelspec": {
   "display_name": "Python 3",
   "language": "python",
   "name": "python3"
  },
  "language_info": {
   "codemirror_mode": {
    "name": "ipython",
    "version": 3
   },
   "file_extension": ".py",
   "mimetype": "text/x-python",
   "name": "python",
   "nbconvert_exporter": "python",
   "pygments_lexer": "ipython3",
   "version": "3.6.5"
  },
  "latex_envs": {
   "bibliofile": "biblio.bib",
   "cite_by": "apalike",
   "current_citInitial": 1,
   "eqLabelWithNumbers": true,
   "eqNumInitial": 0
  }
 },
 "nbformat": 4,
 "nbformat_minor": 1
}
